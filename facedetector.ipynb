{
  "nbformat": 4,
  "nbformat_minor": 0,
  "metadata": {
    "colab": {
      "provenance": [],
      "gpuType": "T4",
      "mount_file_id": "1ACzenEkNkg3ejyixW9QM8AEMWLgBqWIa",
      "authorship_tag": "ABX9TyNFq2xn0AfL8ZGvK2ZR7+Ai",
      "include_colab_link": true
    },
    "kernelspec": {
      "name": "python3",
      "display_name": "Python 3"
    },
    "language_info": {
      "name": "python"
    },
    "accelerator": "GPU"
  },
  "cells": [
    {
      "cell_type": "markdown",
      "metadata": {
        "id": "view-in-github",
        "colab_type": "text"
      },
      "source": [
        "<a href=\"https://colab.research.google.com/github/hndrr/colab/blob/main/facedetector.ipynb\" target=\"_parent\"><img src=\"https://colab.research.google.com/assets/colab-badge.svg\" alt=\"Open In Colab\"/></a>"
      ]
    },
    {
      "cell_type": "code",
      "execution_count": null,
      "metadata": {
        "id": "twdXN5-Lq0iT"
      },
      "outputs": [],
      "source": [
        "!pip install gradio\n",
        "!pip install insightface\n",
        "!pip install onnxruntime\n",
        "!pip install opencv-python-headless"
      ]
    },
    {
      "cell_type": "code",
      "source": [
        "import gradio as gr\n",
        "import cv2\n",
        "import numpy as np\n",
        "import tempfile\n",
        "from PIL import Image\n",
        "from zipfile import ZipFile\n",
        "import insightface\n",
        "from insightface.app import FaceAnalysis\n"
      ],
      "metadata": {
        "id": "8IBVI3eVq6ej"
      },
      "execution_count": null,
      "outputs": []
    },
    {
      "cell_type": "code",
      "source": [
        "# InsightFaceの初期化\n",
        "app = FaceAnalysis()\n",
        "app.prepare(ctx_id=0, det_size=(640, 640))\n"
      ],
      "metadata": {
        "id": "4nM71Rabq8_Z"
      },
      "execution_count": null,
      "outputs": []
    },
    {
      "cell_type": "code",
      "source": [
        "def make_square_bbox(bbox):\n",
        "    x1, y1, x2, y2 = bbox\n",
        "    w = x2 - x1\n",
        "    h = y2 - y1\n",
        "    side_len = max(w, h)\n",
        "    center_x, center_y = x1 + w // 2, y1 + h // 2\n",
        "    new_x1 = max(center_x - side_len // 2, 0)\n",
        "    new_y1 = max(center_y - side_len // 2, 0)\n",
        "    new_x2 = new_x1 + side_len\n",
        "    new_y2 = new_y1 + side_len\n",
        "    return [new_x1, new_y1, new_x2, new_y2]\n",
        "\n",
        "def resize_image(img, target_size):\n",
        "    return cv2.resize(img, (target_size, target_size), interpolation=cv2.INTER_AREA)\n",
        "\n",
        "def detect_and_crop_faces(file_list):\n",
        "    with tempfile.TemporaryDirectory() as tmp_dir:\n",
        "        face_count = 0\n",
        "        for file_path in file_list:\n",
        "            img = cv2.imread(file_path)\n",
        "            faces = app.get(img)\n",
        "\n",
        "            for face in faces:\n",
        "                bbox = make_square_bbox(face['bbox'])\n",
        "                x1, y1, x2, y2 = map(int, bbox)\n",
        "                face_img = img[y1:y2, x1:x2]\n",
        "                face_img = resize_image(face_img, 500)\n",
        "                pil_face = Image.fromarray(cv2.cvtColor(face_img, cv2.COLOR_BGR2RGB))\n",
        "                pil_face.save(f'{tmp_dir}/face_{face_count}.png')\n",
        "                face_count += 1\n",
        "\n",
        "        if face_count == 0:\n",
        "            return \"顔が検出されませんでした。\", None\n",
        "\n",
        "        zip_buffer = tempfile.NamedTemporaryFile(delete=False)\n",
        "        with ZipFile(zip_buffer.name, 'w') as zipf:\n",
        "            for i in range(face_count):\n",
        "                zipf.write(f'{tmp_dir}/face_{i}.png', f'face_{i}.png')\n",
        "\n",
        "        return \"顔検出完了。ZIPファイルをダウンロードしてください。\", zip_buffer.name\n",
        "\n",
        "def clear_inputs():\n",
        "    return [], \"入力をクリアしました。\", None  # ファイル入力を空のリストでリセット\n"
      ],
      "metadata": {
        "id": "40l2gZzSrBFY"
      },
      "execution_count": null,
      "outputs": []
    },
    {
      "cell_type": "code",
      "source": [
        "with gr.Blocks() as facedetector:\n",
        "    with gr.Row():\n",
        "        with gr.Column():\n",
        "            file_input = gr.File(file_types=[\"image\"], file_count=\"multiple\", label=\"Upload Image Files\")\n",
        "            clear_button = gr.Button(\"クリア\")\n",
        "            submit_button = gr.Button(\"顔検出\", variant=\"primary\")\n",
        "        with gr.Column():\n",
        "            output_label = gr.Label(value=\"結果表示\")\n",
        "            download_link = gr.File(label=\"Download Zip\")\n",
        "\n",
        "    file_input.change(detect_and_crop_faces, inputs=[file_input], outputs=[output_label, download_link])\n",
        "    submit_button.click(detect_and_crop_faces, inputs=[file_input], outputs=[output_label, download_link])\n",
        "    clear_button.click(clear_inputs, outputs=[file_input, output_label, download_link])\n",
        "\n",
        "facedetector.launch()\n"
      ],
      "metadata": {
        "id": "GkgeYtL-rMpc"
      },
      "execution_count": null,
      "outputs": []
    }
  ]
}