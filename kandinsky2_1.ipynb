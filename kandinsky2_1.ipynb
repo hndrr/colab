{
  "nbformat": 4,
  "nbformat_minor": 0,
  "metadata": {
    "colab": {
      "provenance": [],
      "include_colab_link": true
    },
    "kernelspec": {
      "name": "python3",
      "display_name": "Python 3"
    },
    "language_info": {
      "name": "python"
    },
    "accelerator": "GPU",
    "gpuClass": "standard"
  },
  "cells": [
    {
      "cell_type": "markdown",
      "metadata": {
        "id": "view-in-github",
        "colab_type": "text"
      },
      "source": [
        "<a href=\"https://colab.research.google.com/github/hndrr/colab/blob/main/kandinsky2_1.ipynb\" target=\"_parent\"><img src=\"https://colab.research.google.com/assets/colab-badge.svg\" alt=\"Open In Colab\"/></a>"
      ]
    },
    {
      "cell_type": "code",
      "source": [
        "# 引き当てたGPUを確認\n",
        "!nvidia-smi"
      ],
      "metadata": {
        "id": "p9KJ8aZf1ijf"
      },
      "execution_count": null,
      "outputs": []
    },
    {
      "cell_type": "code",
      "source": [
        "!pip install 'git+https://github.com/ai-forever/Kandinsky-2.git'\n",
        "!pip install git+https://github.com/openai/CLIP.git\n",
        "!pip install gradio"
      ],
      "metadata": {
        "id": "d6yFxaO2N2kp"
      },
      "execution_count": null,
      "outputs": []
    },
    {
      "cell_type": "code",
      "source": [
        "from kandinsky2 import get_kandinsky2\n",
        "model = get_kandinsky2('cuda', task_type='text2img', cache_dir='/tmp/kandinsky2', model_version='2.1', use_flash_attention=False)"
      ],
      "metadata": {
        "id": "D0BeMRrsNoK3"
      },
      "execution_count": null,
      "outputs": []
    },
    {
      "cell_type": "code",
      "source": [
        "import gradio as gr\n",
        "\n",
        "def infer(prompt):\n",
        "    images = model.generate_text2img(prompt, num_steps=100,\n",
        "                          batch_size=1, guidance_scale=4,\n",
        "                           h=768, w=768,\n",
        "                           sampler='p_sampler', prior_cf_scale=4,\n",
        "                           prior_steps=\"5\",)\n",
        "    return images\n",
        "\n",
        "with gr.Blocks() as demo:\n",
        "    with gr.Group():\n",
        "        with gr.Box():\n",
        "            with gr.Row().style(equal_height=True):\n",
        "\n",
        "                text = gr.Textbox(\n",
        "                    label=\"Enter your prompt\", show_label=False, max_lines=1, placeholder=\"プロンプトを入力\"\n",
        "                )\n",
        "                btn = gr.Button(\"Generate\")\n",
        "\n",
        "        gallery = gr.Gallery(label=\"Generated images\", show_label=False, elem_id=\"generated_id\")\n",
        "\n",
        "        # text.submit(infer, inputs=[text], outputs=gallery)\n",
        "        btn.click(infer, inputs=[text], outputs=gallery)\n",
        "\n",
        "demo.queue(max_size=15).launch()"
      ],
      "metadata": {
        "id": "NeXdSGextGnF"
      },
      "execution_count": null,
      "outputs": []
    },
    {
      "cell_type": "code",
      "source": [
        "# 別のUI\n",
        "# 参考\n",
        "# https://gradio.app/quickstart/\n",
        "# https://bounote.jp/category/programming/gradio/\n",
        "\n",
        "import gradio as gr\n",
        "\n",
        "def infer(prompt):\n",
        "    images = model.generate_text2img(prompt, num_steps=100,\n",
        "                          batch_size=1, guidance_scale=4,\n",
        "                           h=768, w=768,\n",
        "                           sampler='p_sampler', prior_cf_scale=4,\n",
        "                           prior_steps=\"5\",)\n",
        "    return images[0]\n",
        "\n",
        "iface = gr.Interface(\n",
        "  fn=infer, \n",
        "  inputs='text',\n",
        "  outputs='image',\n",
        "  examples=[[\"赤い猫\"]],\n",
        "  allow_flagging='never'\n",
        ")\n",
        "\n",
        "iface.launch()"
      ],
      "metadata": {
        "id": "1XMIl1P5365_"
      },
      "execution_count": null,
      "outputs": []
    }
  ]
}