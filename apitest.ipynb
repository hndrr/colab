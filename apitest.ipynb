{
  "nbformat": 4,
  "nbformat_minor": 0,
  "metadata": {
    "colab": {
      "provenance": [],
      "authorship_tag": "ABX9TyPboDvaeIH96J7Eqzvlf0ma",
      "include_colab_link": true
    },
    "kernelspec": {
      "name": "python3",
      "display_name": "Python 3"
    },
    "language_info": {
      "name": "python"
    }
  },
  "cells": [
    {
      "cell_type": "markdown",
      "metadata": {
        "id": "view-in-github",
        "colab_type": "text"
      },
      "source": [
        "<a href=\"https://colab.research.google.com/github/hndrr/colab/blob/main/apitest.ipynb\" target=\"_parent\"><img src=\"https://colab.research.google.com/assets/colab-badge.svg\" alt=\"Open In Colab\"/></a>"
      ]
    },
    {
      "cell_type": "markdown",
      "source": [
        "{JSONPlaceholder APIをPythonで叩くテスト\n",
        "\n",
        "https://www.udemy.com/course/python-fastapi/"
      ],
      "metadata": {
        "id": "Q-Mi6kVneQL9"
      }
    },
    {
      "cell_type": "code",
      "execution_count": 1,
      "metadata": {
        "id": "GOlnF3_Jdd8S"
      },
      "outputs": [],
      "source": [
        "import requests"
      ]
    },
    {
      "cell_type": "code",
      "source": [
        "url ='https://jsonplaceholder.typicode.com/posts'"
      ],
      "metadata": {
        "id": "yHfBR-pWdssd"
      },
      "execution_count": 2,
      "outputs": []
    },
    {
      "cell_type": "code",
      "source": [
        "res = requests.get(url)"
      ],
      "metadata": {
        "id": "cOjCQklHd1oO"
      },
      "execution_count": 3,
      "outputs": []
    },
    {
      "cell_type": "code",
      "source": [
        "res.status_code"
      ],
      "metadata": {
        "id": "E5eGjKdNd-S8"
      },
      "execution_count": null,
      "outputs": []
    },
    {
      "cell_type": "code",
      "source": [
        "res.json()"
      ],
      "metadata": {
        "id": "fKMPttbleI-b"
      },
      "execution_count": null,
      "outputs": []
    },
    {
      "cell_type": "code",
      "source": [
        "datum = res.json()[0]\n",
        "datum"
      ],
      "metadata": {
        "id": "U_ojRqYtenIg"
      },
      "execution_count": null,
      "outputs": []
    },
    {
      "cell_type": "code",
      "source": [
        "params = {\n",
        "    'id':3\n",
        "}\n",
        "res = requests.get(url, params)\n",
        "res.json()"
      ],
      "metadata": {
        "id": "QvrXwxNAfE0q"
      },
      "execution_count": null,
      "outputs": []
    }
  ]
}