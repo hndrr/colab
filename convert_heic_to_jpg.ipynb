{
  "nbformat": 4,
  "nbformat_minor": 0,
  "metadata": {
    "colab": {
      "provenance": [],
      "authorship_tag": "ABX9TyNcsEq0iN2GK7X4uF4TVtZj",
      "include_colab_link": true
    },
    "kernelspec": {
      "name": "python3",
      "display_name": "Python 3"
    },
    "language_info": {
      "name": "python"
    }
  },
  "cells": [
    {
      "cell_type": "markdown",
      "metadata": {
        "id": "view-in-github",
        "colab_type": "text"
      },
      "source": [
        "<a href=\"https://colab.research.google.com/github/hndrr/colab/blob/main/convert_heic_to_jpg.ipynb\" target=\"_parent\"><img src=\"https://colab.research.google.com/assets/colab-badge.svg\" alt=\"Open In Colab\"/></a>"
      ]
    },
    {
      "cell_type": "code",
      "source": [
        "!pip install gradio pyheif pillow"
      ],
      "metadata": {
        "id": "j0rA1UlvwgRp"
      },
      "execution_count": null,
      "outputs": []
    },
    {
      "cell_type": "code",
      "execution_count": 2,
      "metadata": {
        "id": "-6WhZGYXuxTF"
      },
      "outputs": [],
      "source": [
        "import gradio as gr\n",
        "from zipfile import ZipFile\n",
        "import os\n",
        "import pyheif\n",
        "from PIL import Image\n",
        "import io"
      ]
    },
    {
      "cell_type": "code",
      "source": [
        "def convert_heic_to_jpg(heic_images) -> str:\n",
        "    '''複数のHEIC画像をJPGに変換し、ZIPファイルにして返す関数'''\n",
        "    if heic_images is None:\n",
        "        raise ValueError(\"画像ファイルがアップロードされていません。\")\n",
        "\n",
        "    # 一時的なディレクトリとZIPファイル名の設定\n",
        "    tmp_dir = \"./tmp\"\n",
        "    zip_file_name = \"./images_converted.zip\"\n",
        "\n",
        "    # 一時ディレクトリの設定\n",
        "    if not os.path.exists(tmp_dir):\n",
        "        os.makedirs(tmp_dir)\n",
        "\n",
        "    # ZIPファイルを作成\n",
        "    with ZipFile(zip_file_name, 'w') as zipf:\n",
        "        for i, heic_image in enumerate(heic_images):\n",
        "            # HEIC形式の画像を読み込む\n",
        "            heif_file = pyheif.read(heic_image)\n",
        "            img = Image.frombytes(\n",
        "                heif_file.mode,\n",
        "                heif_file.size,\n",
        "                heif_file.data,\n",
        "                \"raw\",\n",
        "                heif_file.mode,\n",
        "                heif_file.stride,\n",
        "            )\n",
        "\n",
        "            # JPG形式で画像を保存\n",
        "            jpg_path = os.path.join(tmp_dir, f'image_{i}.jpg')\n",
        "            img.save(jpg_path, \"JPEG\")\n",
        "            zipf.write(jpg_path)\n",
        "\n",
        "    return zip_file_name"
      ],
      "metadata": {
        "id": "C5G18-5Jwh4L"
      },
      "execution_count": 16,
      "outputs": []
    },
    {
      "cell_type": "code",
      "source": [
        "demo = gr.Interface(\n",
        "    fn=convert_heic_to_jpg,\n",
        "    inputs=gr.Files(label=\"HEICファイルをアップロード\"),\n",
        "    outputs=\"file\"\n",
        ")\n",
        "\n",
        "demo.launch(debug=True)"
      ],
      "metadata": {
        "id": "Dq1vj3wBxOhT"
      },
      "execution_count": null,
      "outputs": []
    }
  ]
}