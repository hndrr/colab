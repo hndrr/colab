{
  "nbformat": 4,
  "nbformat_minor": 0,
  "metadata": {
    "colab": {
      "provenance": [],
      "authorship_tag": "ABX9TyN4IBk40Fd2v2Dm6U8NNzYA",
      "include_colab_link": true
    },
    "kernelspec": {
      "name": "python3",
      "display_name": "Python 3"
    },
    "language_info": {
      "name": "python"
    }
  },
  "cells": [
    {
      "cell_type": "markdown",
      "metadata": {
        "id": "view-in-github",
        "colab_type": "text"
      },
      "source": [
        "<a href=\"https://colab.research.google.com/github/hndrr/colab/blob/main/LangFlow.ipynb\" target=\"_parent\"><img src=\"https://colab.research.google.com/assets/colab-badge.svg\" alt=\"Open In Colab\"/></a>"
      ]
    },
    {
      "cell_type": "markdown",
      "source": [
        "LangFlow\n",
        "参考：　https://note.com/npaka/n/n561e597ac5c4"
      ],
      "metadata": {
        "id": "so5O9ZkQqIlG"
      }
    },
    {
      "cell_type": "code",
      "execution_count": null,
      "metadata": {
        "id": "vDRPhaznqIAL"
      },
      "outputs": [],
      "source": [
        "!pip install langflow"
      ]
    },
    {
      "cell_type": "code",
      "source": [
        "#　TODO: 動かない\n",
        "!langflow"
      ],
      "metadata": {
        "colab": {
          "base_uri": "https://localhost:8080/"
        },
        "id": "0uUHTHsDq8R4",
        "outputId": "8237bb0d-6464-4a92-bfb0-a8b22bdc11a1"
      },
      "execution_count": 4,
      "outputs": [
        {
          "output_type": "stream",
          "name": "stdout",
          "text": [
            "\u001b[2;36m[14:20:32]\u001b[0m\u001b[2;36m \u001b[0m\u001b[34mINFO    \u001b[0m \u001b[1m[\u001b[0m\u001b[1;92m14:20:32\u001b[0m\u001b[1m]\u001b[0m - INFO - Logger set up with log      \u001b]8;id=136804;file:///usr/local/lib/python3.9/dist-packages/langflow/utils/logger.py\u001b\\\u001b[2mlogger.py\u001b[0m\u001b]8;;\u001b\\\u001b[2m:\u001b[0m\u001b]8;id=997330;file:///usr/local/lib/python3.9/dist-packages/langflow/utils/logger.py#28\u001b\\\u001b[2m28\u001b[0m\u001b]8;;\u001b\\\n",
            "\u001b[2;36m           \u001b[0m         level: \u001b[1;35m20\u001b[0m\u001b[1m(\u001b[0minfo\u001b[1m)\u001b[0m                                 \u001b[2m            \u001b[0m\n",
            "\u001b[2;36m          \u001b[0m\u001b[2;36m \u001b[0m\u001b[34mINFO    \u001b[0m \u001b[1m[\u001b[0m\u001b[1;92m14:20:32\u001b[0m\u001b[1m]\u001b[0m - INFO - Log file: logs/langflow.log \u001b]8;id=549359;file:///usr/local/lib/python3.9/dist-packages/langflow/utils/logger.py\u001b\\\u001b[2mlogger.py\u001b[0m\u001b]8;;\u001b\\\u001b[2m:\u001b[0m\u001b]8;id=898094;file:///usr/local/lib/python3.9/dist-packages/langflow/utils/logger.py#30\u001b\\\u001b[2m30\u001b[0m\u001b]8;;\u001b\\\n",
            "[2023-04-11 14:20:32 +0000] [1899] [INFO] Starting gunicorn 20.1.0\n",
            "[2023-04-11 14:20:32 +0000] [1899] [INFO] Listening at: http://127.0.0.1:7860 (1899)\n",
            "[2023-04-11 14:20:32 +0000] [1899] [INFO] Using worker: uvicorn.workers.UvicornWorker\n",
            "[2023-04-11 14:20:32 +0000] [1909] [INFO] Booting worker with pid: 1909\n",
            "[2023-04-11 14:20:32 +0000] [1909] [INFO] Started server process [1909]\n",
            "[2023-04-11 14:20:32 +0000] [1909] [INFO] Waiting for application startup.\n",
            "[2023-04-11 14:20:32 +0000] [1909] [INFO] Application startup complete.\n",
            "[2023-04-11 14:20:36 +0000] [1899] [INFO] Handling signal: int\n",
            "[2023-04-11 14:20:36 +0000] [1909] [INFO] Shutting down\n",
            "[2023-04-11 14:20:36 +0000] [1909] [INFO] Waiting for application shutdown.\n",
            "[2023-04-11 14:20:36 +0000] [1909] [INFO] Application shutdown complete.\n",
            "[2023-04-11 14:20:36 +0000] [1909] [INFO] Finished server process [1909]\n",
            "[2023-04-11 14:20:36 +0000] [1909] [INFO] Worker exiting (pid: 1909)\n",
            "[2023-04-11 14:20:37 +0000] [1899] [INFO] Shutting down: Master\n"
          ]
        }
      ]
    },
    {
      "cell_type": "code",
      "source": [],
      "metadata": {
        "id": "Ryw1Op32sIaj"
      },
      "execution_count": null,
      "outputs": []
    }
  ]
}