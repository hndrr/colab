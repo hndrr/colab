{
  "nbformat": 4,
  "nbformat_minor": 0,
  "metadata": {
    "colab": {
      "provenance": [],
      "authorship_tag": "ABX9TyN8lS7Rc6WciH371+zhlXJ2",
      "include_colab_link": true
    },
    "kernelspec": {
      "name": "python3",
      "display_name": "Python 3"
    },
    "language_info": {
      "name": "python"
    }
  },
  "cells": [
    {
      "cell_type": "markdown",
      "metadata": {
        "id": "view-in-github",
        "colab_type": "text"
      },
      "source": [
        "<a href=\"https://colab.research.google.com/github/hndrr/colab/blob/main/yt_dlp.ipynb\" target=\"_parent\"><img src=\"https://colab.research.google.com/assets/colab-badge.svg\" alt=\"Open In Colab\"/></a>"
      ]
    },
    {
      "cell_type": "markdown",
      "source": [
        "\n",
        "https://github.com/yt-dlp/yt-dlp\n",
        "\n",
        "https://masayoshi-9a7ee.hatenablog.com/entry/2021/11/06/112639"
      ],
      "metadata": {
        "id": "WCSKBs1FmcQ1"
      }
    },
    {
      "cell_type": "code",
      "source": [
        "!pip install yt-dlp\n",
        "!pip install gradio"
      ],
      "metadata": {
        "id": "cHkYTzqwidUk"
      },
      "execution_count": null,
      "outputs": []
    },
    {
      "cell_type": "code",
      "execution_count": null,
      "metadata": {
        "id": "yr-5ObLIiYbn"
      },
      "outputs": [],
      "source": [
        "from google.colab import drive\n",
        "drive.mount('/content/drive')\n",
        "%cd ./drive/MyDrive\n"
      ]
    },
    {
      "cell_type": "code",
      "source": [
        "# urlを指定\n",
        "url = \"\" #@param {type:\"string\"}\n",
        "password = \"\" #@param {type:\"string\"}"
      ],
      "metadata": {
        "id": "owbpXoYAjOrb"
      },
      "execution_count": 27,
      "outputs": []
    },
    {
      "cell_type": "code",
      "source": [
        "!yt-dlp {url} --video-password {password}"
      ],
      "metadata": {
        "id": "2Oz3rFtIjnmn"
      },
      "execution_count": null,
      "outputs": []
    }
  ]
}