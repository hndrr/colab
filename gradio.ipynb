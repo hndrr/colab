{
  "nbformat": 4,
  "nbformat_minor": 0,
  "metadata": {
    "colab": {
      "provenance": [],
      "authorship_tag": "ABX9TyOUIkAaSWozVyPulD9e5taL",
      "include_colab_link": true
    },
    "kernelspec": {
      "name": "python3",
      "display_name": "Python 3"
    },
    "language_info": {
      "name": "python"
    }
  },
  "cells": [
    {
      "cell_type": "markdown",
      "metadata": {
        "id": "view-in-github",
        "colab_type": "text"
      },
      "source": [
        "<a href=\"https://colab.research.google.com/github/hndrr/colab/blob/main/gradio.ipynb\" target=\"_parent\"><img src=\"https://colab.research.google.com/assets/colab-badge.svg\" alt=\"Open In Colab\"/></a>"
      ]
    },
    {
      "cell_type": "code",
      "execution_count": null,
      "metadata": {
        "id": "yeM_JImylBcg"
      },
      "outputs": [],
      "source": [
        "# パッケージのインストール\n",
        "!pip install gradio"
      ]
    },
    {
      "cell_type": "code",
      "source": [
        "import gradio as gr\n",
        "\n",
        "# ラップする関数\n",
        "def greet(name):\n",
        "    return \"Hello \" + name + \"!\"\n",
        "\n",
        "# シンプルなUIを作成\n",
        "demo = gr.Interface(\n",
        "    fn=greet, \n",
        "    inputs=\"text\", \n",
        "    outputs=\"text\"\n",
        ")\n",
        "\n",
        "# 起動\n",
        "demo.launch()"
      ],
      "metadata": {
        "id": "xGr-kPExlK4N"
      },
      "execution_count": null,
      "outputs": []
    },
    {
      "cell_type": "code",
      "source": [
        "import gradio as gr\n",
        "\n",
        "# ラップする関数\n",
        "def greet(name):\n",
        "    return \"Hello \" + name + \"!\"\n",
        "\n",
        "# シンプルなUIを作成\n",
        "demo = gr.Interface(\n",
        "    fn=greet,\n",
        "    inputs=gr.Textbox(\n",
        "        lines=2,  # 行数\n",
        "        placeholder=\"Name Here...\"  # プレースホルダ\n",
        "    ),\n",
        "    outputs=\"text\",\n",
        ")\n",
        "\n",
        "# 起動\n",
        "demo.launch()"
      ],
      "metadata": {
        "id": "4Ouub3TelRr9"
      },
      "execution_count": null,
      "outputs": []
    },
    {
      "cell_type": "code",
      "source": [
        "import gradio as gr\n",
        "\n",
        "# ラップする関数\n",
        "def greet(name, is_morning, temperature):\n",
        "    salutation = \"Good morning\" if is_morning else \"Good evening\"\n",
        "    greeting = f\"{salutation} {name}. It is {temperature} degrees today\"\n",
        "    celsius = (temperature - 32) * 5 / 9\n",
        "    return greeting, round(celsius, 2)\n",
        "\n",
        "# シンプルなUIを作成\n",
        "demo = gr.Interface(\n",
        "    fn=greet,\n",
        "    inputs=[\"text\", \"checkbox\", gr.Slider(0, 100)],\n",
        "    outputs=[\"text\", \"number\"],\n",
        ")\n",
        "\n",
        "# 起動\n",
        "demo.launch()"
      ],
      "metadata": {
        "id": "TAWK1ERgmTI7"
      },
      "execution_count": null,
      "outputs": []
    },
    {
      "cell_type": "code",
      "source": [
        "import numpy as np\n",
        "import gradio as gr\n",
        "\n",
        "# ラップする関数\n",
        "def sepia(input_img):\n",
        "    sepia_filter = np.array([\n",
        "        [0.393, 0.769, 0.189], \n",
        "        [0.349, 0.686, 0.168], \n",
        "        [0.272, 0.534, 0.131]\n",
        "    ])\n",
        "    sepia_img = input_img.dot(sepia_filter.T)\n",
        "    sepia_img /= sepia_img.max()\n",
        "    return sepia_img\n",
        "\n",
        "# シンプルなUIを作成\n",
        "demo = gr.Interface(\n",
        "    fn=sepia, \n",
        "    inputs=gr.Image(shape=(200, 200)), \n",
        "    outputs=\"image\"\n",
        ")\n",
        "\n",
        "# 起動\n",
        "demo.launch()"
      ],
      "metadata": {
        "id": "UEH4SFWsnxK2"
      },
      "execution_count": null,
      "outputs": []
    },
    {
      "cell_type": "code",
      "source": [
        "import gradio as gr\n",
        "\n",
        "# ラップする関数\n",
        "def greet(name):\n",
        "    return \"Hello \" + name + \"!\"\n",
        "\n",
        "# シンプルなUIを作成\n",
        "with gr.Blocks() as demo:\n",
        "    name = gr.Textbox(label=\"Name\")\n",
        "    output = gr.Textbox(label=\"Output Box\")\n",
        "    greet_btn = gr.Button(\"Greet\")\n",
        "    greet_btn.click(fn=greet, inputs=name, outputs=output)\n",
        "\n",
        "# 起動\n",
        "demo.launch()\n",
        "\n"
      ],
      "metadata": {
        "id": "h4DHjkNNnwtT"
      },
      "execution_count": null,
      "outputs": []
    },
    {
      "cell_type": "code",
      "source": [
        "import numpy as np\n",
        "import gradio as gr\n",
        "\n",
        "# ラップする関数\n",
        "def flip_text(x):\n",
        "    return x[::-1]\n",
        "\n",
        "# ラップする関数\n",
        "def flip_image(x):\n",
        "    return np.fliplr(x)\n",
        "\n",
        "# シンプルなUIを作成\n",
        "with gr.Blocks() as demo:\n",
        "    gr.Markdown(\"Flip text or image files using this demo.\")\n",
        "    with gr.Tabs():\n",
        "        with gr.TabItem(\"Flip Text\"):\n",
        "            text_input = gr.Textbox()\n",
        "            text_output = gr.Textbox()\n",
        "            text_button = gr.Button(\"Flip\")\n",
        "        with gr.TabItem(\"Flip Image\"):\n",
        "            with gr.Row():\n",
        "                image_input = gr.Image()\n",
        "                image_output = gr.Image()\n",
        "            image_button = gr.Button(\"Flip\")\n",
        "    \n",
        "    text_button.click(flip_text, inputs=text_input, outputs=text_output)\n",
        "    image_button.click(flip_image, inputs=image_input, outputs=image_output)\n",
        "    \n",
        "# 起動\n",
        "demo.launch()"
      ],
      "metadata": {
        "id": "Y3H4NDRSoS-p"
      },
      "execution_count": null,
      "outputs": []
    }
  ]
}