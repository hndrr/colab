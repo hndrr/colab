{
  "nbformat": 4,
  "nbformat_minor": 0,
  "metadata": {
    "colab": {
      "provenance": [],
      "authorship_tag": "ABX9TyOPFGydwuusjII3NR6SsLnL",
      "include_colab_link": true
    },
    "kernelspec": {
      "name": "python3",
      "display_name": "Python 3"
    },
    "language_info": {
      "name": "python"
    }
  },
  "cells": [
    {
      "cell_type": "markdown",
      "metadata": {
        "id": "view-in-github",
        "colab_type": "text"
      },
      "source": [
        "<a href=\"https://colab.research.google.com/github/hndrr/colab/blob/main/yt_dlp2.ipynb\" target=\"_parent\"><img src=\"https://colab.research.google.com/assets/colab-badge.svg\" alt=\"Open In Colab\"/></a>"
      ]
    },
    {
      "cell_type": "markdown",
      "source": [
        "https://github.com/yt-dlp/yt-dlp\n",
        "\n",
        "https://masayoshi-9a7ee.hatenablog.com/entry/2021/11/06/112639"
      ],
      "metadata": {
        "id": "mxlGmWkixjdz"
      }
    },
    {
      "cell_type": "code",
      "execution_count": null,
      "metadata": {
        "id": "bSlbBCO6rx1T"
      },
      "outputs": [],
      "source": [
        "!pip install yt-dlp"
      ]
    },
    {
      "cell_type": "code",
      "source": [
        "# urlを指定\n",
        "url = \"\" #@param {type:\"string\"}"
      ],
      "metadata": {
        "id": "9aHkmV83r5ZR"
      },
      "execution_count": null,
      "outputs": []
    },
    {
      "cell_type": "code",
      "source": [
        "import json\n",
        "import subprocess\n",
        "\n",
        "# yt-dlpで動画のメタデータを取得\n",
        "output = subprocess.run(['yt-dlp', '-j', url], stdout=subprocess.PIPE, text=True).stdout\n",
        "\n",
        "# メタデータをPythonの辞書として解析\n",
        "metadata = json.loads(output)\n",
        "\n",
        "# タイトルを取得\n",
        "title = metadata['title']\n",
        "\n",
        "# yt-dlpを使って動画をダウンロード\n",
        "!yt-dlp -o \"{title}.%(ext)s\" --format mp4 {url}\n",
        "\n",
        "# ファイルをダウンロード\n",
        "from google.colab import files\n",
        "files.download(f'{title}.mp4')"
      ],
      "metadata": {
        "id": "sgVxoZcBrzEe"
      },
      "execution_count": null,
      "outputs": []
    }
  ]
}