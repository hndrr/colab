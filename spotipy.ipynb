{
  "nbformat": 4,
  "nbformat_minor": 0,
  "metadata": {
    "colab": {
      "provenance": [],
      "mount_file_id": "1S_J53LLn_2OHkDyO8vbzuePuYNhyvBAb",
      "authorship_tag": "ABX9TyM5kzexFty4CZLH4w/EIwoq",
      "include_colab_link": true
    },
    "kernelspec": {
      "name": "python3",
      "display_name": "Python 3"
    },
    "language_info": {
      "name": "python"
    }
  },
  "cells": [
    {
      "cell_type": "markdown",
      "metadata": {
        "id": "view-in-github",
        "colab_type": "text"
      },
      "source": [
        "<a href=\"https://colab.research.google.com/github/hndrr/colab/blob/main/spotipy.ipynb\" target=\"_parent\"><img src=\"https://colab.research.google.com/assets/colab-badge.svg\" alt=\"Open In Colab\"/></a>"
      ]
    },
    {
      "cell_type": "markdown",
      "source": [
        "参考: \n",
        "*   https://www.hamlet-engineer.com/posts/spotify01.html\n",
        "*   https://qiita.com/ysk0832/items/633a2ebedf26d78951a8"
      ],
      "metadata": {
        "id": "eyOObGMV1SR4"
      }
    },
    {
      "cell_type": "code",
      "execution_count": null,
      "metadata": {
        "id": "ohDndu55zEYH"
      },
      "outputs": [],
      "source": [
        "#　ライブラリのInstall\n",
        "# https://spotipy.readthedocs.io/\n",
        "!pip install spotipy\n",
        "!pip install python-dotenv"
      ]
    },
    {
      "cell_type": "code",
      "source": [
        "import json\n",
        "import spotipy\n",
        "import spotipy.util as util\n",
        "from spotipy.oauth2 import SpotifyClientCredentials\n",
        "from spotipy.oauth2 import SpotifyOAuth\n"
      ],
      "metadata": {
        "id": "saMRH2wV_EMM"
      },
      "execution_count": null,
      "outputs": []
    },
    {
      "cell_type": "code",
      "source": [
        "# JSONを整形して出力する関数を定義\n",
        "def pretty_print_json(json_data):\n",
        "    print(json.dumps(json_data, indent=2, ensure_ascii=False))"
      ],
      "metadata": {
        "id": "LeYDmC7sCSsJ"
      },
      "execution_count": null,
      "outputs": []
    },
    {
      "cell_type": "code",
      "source": [
        "import os\n",
        "from dotenv import load_dotenv\n",
        "\n",
        "# ファイルのパスを指定\n",
        "# .envに環境変数を書き込む必要あり\n",
        "file_path = '/content/drive/MyDrive/Colab Notebooks/.env'\n",
        "\n",
        "# .envファイルを読み込む\n",
        "load_dotenv(file_path)\n",
        "\n",
        "# 環境変数の取得\n",
        "CLIENT_ID = os.environ.get('CLIENT_ID')\n",
        "CLIENT_SECRET = os.environ.get('CLIENT_SECRET')\n",
        "REDIRECT_URL = os.environ.get('REDIRECT_URL')\n",
        "USERNAME = os.environ.get('USERNAME')\n",
        "\n",
        "# 環境変数の表示\n",
        "print(f\"CLIENT_ID: {CLIENT_ID}\")\n",
        "print(f\"CLIENT_SECRET: {CLIENT_SECRET}\")\n",
        "print(f\"REDIRECT_URL: {REDIRECT_URL}\")\n",
        "print(f\"USERNAME: {USERNAME}\")\n"
      ],
      "metadata": {
        "id": "jGe7c7ZWEytt"
      },
      "execution_count": null,
      "outputs": []
    },
    {
      "cell_type": "code",
      "source": [
        "scope = \"user-library-read\"\n",
        "sp_oauth = SpotifyOAuth(\n",
        "    client_id=CLIENT_ID,\n",
        "    client_secret=CLIENT_SECRET,\n",
        "    redirect_uri=REDIRECT_URL,\n",
        "    scope=scope\n",
        ")\n",
        "\n",
        "auth_url = sp_oauth.get_authorize_url()\n",
        "\n",
        "print(auth_url)"
      ],
      "metadata": {
        "id": "c2pkJ38bJc3u"
      },
      "execution_count": null,
      "outputs": []
    },
    {
      "cell_type": "markdown",
      "source": [
        "auth_url にアクセスしてcodeの値をコピーして↓入力する"
      ],
      "metadata": {
        "id": "a1UvgNxDOeuy"
      }
    },
    {
      "cell_type": "code",
      "source": [
        "code = \"\"#@param{type: \"string\"}\n",
        "token_info = sp_oauth.get_access_token(code=code)\n",
        "REFRESH_TOKEN = token_info['refresh_token']\n",
        "ACCESS_TOKEN = token_info['access_token']\n",
        "print(REFRESH_TOKEN)\n",
        "print(ACCESS_TOKEN)"
      ],
      "metadata": {
        "id": "5VNXNZctJxSX"
      },
      "execution_count": null,
      "outputs": []
    },
    {
      "cell_type": "code",
      "source": [
        "# Podcast IDを指定\n",
        "podcast_id = '6h7WBgX1XlTuypPKhyL3qI'#@param{type: \"string\"}"
      ],
      "metadata": {
        "id": "FQRY9HNPPDF8"
      },
      "execution_count": null,
      "outputs": []
    },
    {
      "cell_type": "code",
      "source": [
        "import spotipy\n",
        "from spotipy.oauth2 import SpotifyOAuth\n",
        "\n",
        "scope = \"user-library-read\"\n",
        "sp = spotipy.Spotify(auth_manager=SpotifyOAuth(client_id=CLIENT_ID,\n",
        "        client_secret=CLIENT_SECRET, \n",
        "        redirect_uri=REDIRECT_URL, scope=scope))\n",
        "\n",
        "# Podcast情報を取得\n",
        "podcast_data = sp.show(podcast_id)\n",
        "\n",
        "# Podcastのエピソード情報を取得\n",
        "episodes_data = sp.show_episodes(podcast_id)\n",
        "\n",
        "# 結果を表示\n",
        "print('Show title:', podcast_data['name'])\n",
        "print('Description:', podcast_data['description'])\n",
        "print('Total episodes:', podcast_data['total_episodes'])\n",
        "\n",
        "print('Episodes:')\n",
        "for episode in episodes_data['items']:\n",
        "    print(episode['name'], '-', episode['release_date'], '-', episode['duration_ms'])\n"
      ],
      "metadata": {
        "id": "zIroa7VxMzpX"
      },
      "execution_count": null,
      "outputs": []
    },
    {
      "cell_type": "code",
      "source": [
        "# エンドポイントを叩いてJSONを拾えるか確認\n",
        "# https://developer.spotify.com/documentation/web-api/reference/get-a-shows-episodes\n",
        "import requests\n",
        "import json\n",
        "\n",
        "# Spotify APIエンドポイント\n",
        "SHOW_ENDPOINT = 'https://api.spotify.com/v1/shows/{id}'\n",
        "EPISODES_ENDPOINT = 'https://api.spotify.com/v1/shows/{id}/episodes'\n",
        "\n",
        "HEADERS = {\n",
        "    'Authorization': 'Bearer ' + ACCESS_TOKEN\n",
        "}\n",
        "\n",
        "# Podcast情報を取得\n",
        "show_response = requests.get(SHOW_ENDPOINT.format(id=podcast_id), headers=HEADERS)\n",
        "show_data = json.loads(show_response.text)\n",
        "\n",
        "# Podcastのエピソード情報を取得\n",
        "episodes_response = requests.get(EPISODES_ENDPOINT.format(id=podcast_id), headers=HEADERS)\n",
        "episodes_data = json.loads(episodes_response.text)\n",
        "\n",
        "pretty_print_json(episodes_data)"
      ],
      "metadata": {
        "id": "FQKUxjHYL1bw"
      },
      "execution_count": null,
      "outputs": []
    },
    {
      "cell_type": "code",
      "source": [
        "# APIのIDとキー\n",
        "# https://developer.spotify.com/dashboard\n",
        "def auth_spotify():\n",
        "    client_credentials_manager = SpotifyClientCredentials(client_id=CLIENT_ID, client_secret=CLIENT_SECRET)\n",
        "    return spotipy.Spotify(client_credentials_manager=client_credentials_manager, language=\"en\")\n",
        "\n",
        "def auth_spotify2():\n",
        "    auth_manager = SpotifyOAuth(client_id=CLIENT_ID,\n",
        "        client_secret=CLIENT_SECRET, \n",
        "        redirect_uri=REDIRECT_URL, \n",
        "        scope='user-follow-modify',\n",
        "        open_browser=False)\n",
        "    return spotipy.Spotify(auth_manager=auth_manager, language=\"en\")"
      ],
      "metadata": {
        "id": "XL9218PZQMcu"
      },
      "execution_count": null,
      "outputs": []
    },
    {
      "cell_type": "code",
      "source": [
        "# spotifyの検索キーを https://open.spotify.com/ のURLからコピペしてくる\n",
        "artist_id = '7kOrrFIBIBc8uCu2zbxbLv'#@param{type: \"string\"}\n",
        "serach_key = 'spotify:artist:'#@param{type: \"string\"}\n",
        "spotify = auth_spotify()\n",
        "results = spotify.artist_top_tracks(artist_id)\n",
        "#　取得件数\n",
        "num = 20#@param{type: \"number\"}\n",
        "\n",
        "# 取得\n",
        "for track in results['tracks'][:num]:\n",
        "    print('track    : ' + track['name'])\n",
        "    print('audio    : ' + track['preview_url'])\n",
        "    print('cover art: ' + track['album']['images'][0]['url'])"
      ],
      "metadata": {
        "id": "BnQBeIJ70Spv"
      },
      "execution_count": null,
      "outputs": []
    },
    {
      "cell_type": "code",
      "source": [
        "# 認証\n",
        "import spotipy\n",
        "import spotipy.util as util\n",
        "token = util.prompt_for_user_token(\n",
        "    scope='user-follow-modify',\n",
        "        username=USERNAME,\n",
        "        redirect_uri=REDIRECT_URL,\n",
        "        client_id=CLIENT_ID,\n",
        "        client_secret=CLIENT_SECRET) \n",
        "sp = spotipy.Spotify(auth=token)\n",
        "print('ok')"
      ],
      "metadata": {
        "id": "ud-EyzhntgMR"
      },
      "execution_count": null,
      "outputs": []
    },
    {
      "cell_type": "code",
      "source": [
        "sp = auth_spotify2()\n",
        "\n",
        "token = util.prompt_for_user_token(\n",
        "    scope='user-follow-modify',\n",
        "        username=USERNAME,\n",
        "        redirect_uri=REDIRECT_URL,\n",
        "        client_id=CLIENT_ID,\n",
        "        client_secret=CLIENT_SECRET) \n",
        "\n",
        "if token:\n",
        "    sp = spotipy.Spotify(auth=token)\n",
        "    podcast = sp.podcast(podcast_id)\n",
        "    print(podcast)\n",
        "else:\n",
        "    print(\"Can't get token for\", USERNAME)\n",
        "\n",
        "\n",
        "  # response = sp.current_user_saved_tracks()\n",
        "  # print(response)"
      ],
      "metadata": {
        "id": "4-fkDCvsWY6u"
      },
      "execution_count": null,
      "outputs": []
    },
    {
      "cell_type": "code",
      "source": [
        "import spotipy\n",
        "from spotipy.oauth2 import SpotifyOAuth\n",
        "import time\n",
        "\n",
        "def create_spotify():\n",
        "    auth_manager = SpotifyOAuth(\n",
        "        scope='user-follow-modify',\n",
        "        username=USERNAME,\n",
        "        redirect_uri=REDIRECT_URL,\n",
        "        client_id=CLIENT_ID,\n",
        "        client_secret=CLIENT_SECRET)\n",
        "\n",
        "    spotify = spotipy.Spotify(auth_manager=auth_manager)\n",
        "\n",
        "    return auth_manager, spotify\n",
        "\n",
        "def refresh_spotify(auth_manager, spotify):\n",
        "    token_info = auth_manager.cache_handler.get_cached_token()\n",
        "    if auth_manager.is_token_expired(token_info):\n",
        "        auth_manager, spotify = create_spotify()\n",
        "    return auth_manager, spotify\n",
        "\n",
        "if __name__ == '__main__':\n",
        "    auth_manager, spotify = create_spotify()\n",
        "\n",
        "    while True:\n",
        "        auth_manager, spotify = refresh_spotify(auth_manager, spotify)\n",
        "        playing = spotify.currently_playing()\n",
        "        if playing:\n",
        "            print(playing['item']['name'])\n",
        "        else:\n",
        "            print('Nothing is playing.')\n",
        "        time.sleep(30)\n"
      ],
      "metadata": {
        "id": "HsWBDoB3iuE-"
      },
      "execution_count": null,
      "outputs": []
    },
    {
      "cell_type": "code",
      "source": [
        "import spotipy  \n",
        "from spotipy.oauth2 import SpotifyOAuth  \n",
        "  \n",
        "sp_oauth = SpotifyOAuth(client_id=CLIENT_ID, client_secret=CLIENT_SECRET, redirect_uri=REDIRECT_URL, scope='user-follow-modify',)  \n",
        "  \n",
        "# access_token = sp_oauth.get_cached_token()  \n",
        "refresh_token = sp_oauth.get_refresh_token()  \n"
      ],
      "metadata": {
        "id": "D5H9-VQcnqIq"
      },
      "execution_count": null,
      "outputs": []
    },
    {
      "cell_type": "code",
      "source": [
        "%env"
      ],
      "metadata": {
        "id": "nNpJX9Yd89Sb"
      },
      "execution_count": null,
      "outputs": []
    }
  ]
}