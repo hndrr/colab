{
  "nbformat": 4,
  "nbformat_minor": 0,
  "metadata": {
    "colab": {
      "provenance": [],
      "authorship_tag": "ABX9TyMtRwL4PJC5TuMYgVcjb7CJ",
      "include_colab_link": true
    },
    "kernelspec": {
      "name": "python3",
      "display_name": "Python 3"
    },
    "language_info": {
      "name": "python"
    }
  },
  "cells": [
    {
      "cell_type": "markdown",
      "metadata": {
        "id": "view-in-github",
        "colab_type": "text"
      },
      "source": [
        "<a href=\"https://colab.research.google.com/github/hndrr/colab/blob/main/spotipy.ipynb\" target=\"_parent\"><img src=\"https://colab.research.google.com/assets/colab-badge.svg\" alt=\"Open In Colab\"/></a>"
      ]
    },
    {
      "cell_type": "markdown",
      "source": [
        "参考: \n",
        "*   https://www.hamlet-engineer.com/posts/spotify01.html\n",
        "*   https://qiita.com/ysk0832/items/633a2ebedf26d78951a8"
      ],
      "metadata": {
        "id": "eyOObGMV1SR4"
      }
    },
    {
      "cell_type": "code",
      "execution_count": null,
      "metadata": {
        "id": "ohDndu55zEYH"
      },
      "outputs": [],
      "source": [
        "#　ライブラリのInstall\n",
        "# https://spotipy.readthedocs.io/\n",
        "!pip install spotipy"
      ]
    },
    {
      "cell_type": "code",
      "source": [
        "import spotipy\n",
        "from spotipy.oauth2 import SpotifyClientCredentials"
      ],
      "metadata": {
        "id": "saMRH2wV_EMM"
      },
      "execution_count": 23,
      "outputs": []
    },
    {
      "cell_type": "code",
      "source": [
        "import json\n",
        "# JSONを整形して出力する\n",
        "def pretty_print_json(json_data):\n",
        "    print(json.dumps(json_data, indent=2, ensure_ascii=False))"
      ],
      "metadata": {
        "id": "LeYDmC7sCSsJ"
      },
      "execution_count": 27,
      "outputs": []
    },
    {
      "cell_type": "code",
      "metadata": {
        "id": "kXIfpBCbyP2M"
      },
      "source": [
        "# APIのIDとキー\n",
        "# https://developer.spotify.com/dashboard\n",
        "def auth_spotify():\n",
        "    client_id = \"\"#@param{type: \"string\"}\n",
        "    client_secret= \"\"#@param{type: \"string\"}\n",
        "\n",
        "    client_credentials_manager = SpotifyClientCredentials(client_id, client_secret)\n",
        "    return spotipy.Spotify(client_credentials_manager=client_credentials_manager, language=\"en\")\n"
      ],
      "execution_count": 24,
      "outputs": []
    },
    {
      "cell_type": "markdown",
      "source": [],
      "metadata": {
        "id": "27y1eF7_DxS4"
      }
    },
    {
      "cell_type": "code",
      "source": [
        "spotify = auth_spotify()"
      ],
      "metadata": {
        "id": "jVwUq4iPAdAr"
      },
      "execution_count": 25,
      "outputs": []
    },
    {
      "cell_type": "code",
      "source": [
        "# spotifyの検索キーを https://open.spotify.com/ のURLからコピペしてくる\n",
        "artist_id = '7kOrrFIBIBc8uCu2zbxbLv'#@param{type: \"string\"}\n",
        "serach_key = 'spotify:artist:'#@param{type: \"string\"}\n",
        "results = spotify.artist_top_tracks(artist_id)\n",
        "#　取得件数\n",
        "num = 20#@param{type: \"number\"}\n",
        "\n",
        "# 取得\n",
        "for track in results['tracks'][:num]:\n",
        "    print('track    : ' + track['name'])\n",
        "    print('audio    : ' + track['preview_url'])\n",
        "    print('cover art: ' + track['album']['images'][0]['url'])\n",
        "    print()\n"
      ],
      "metadata": {
        "id": "BnQBeIJ70Spv"
      },
      "execution_count": null,
      "outputs": []
    },
    {
      "cell_type": "code",
      "source": [
        "# jsonの整形をして出力\n",
        "pretty_print_json(results)"
      ],
      "metadata": {
        "id": "x3TzxLkM9DGe"
      },
      "execution_count": null,
      "outputs": []
    }
  ]
}