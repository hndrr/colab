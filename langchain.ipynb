{
  "nbformat": 4,
  "nbformat_minor": 0,
  "metadata": {
    "colab": {
      "provenance": [],
      "authorship_tag": "ABX9TyPRJDofJGmUowkHlBLnYH/e",
      "include_colab_link": true
    },
    "kernelspec": {
      "name": "python3",
      "display_name": "Python 3"
    },
    "language_info": {
      "name": "python"
    }
  },
  "cells": [
    {
      "cell_type": "markdown",
      "metadata": {
        "id": "view-in-github",
        "colab_type": "text"
      },
      "source": [
        "<a href=\"https://colab.research.google.com/github/hndrr/colab/blob/main/langchain.ipynb\" target=\"_parent\"><img src=\"https://colab.research.google.com/assets/colab-badge.svg\" alt=\"Open In Colab\"/></a>"
      ]
    },
    {
      "cell_type": "code",
      "execution_count": null,
      "metadata": {
        "id": "336Kkv7xFpIk"
      },
      "outputs": [],
      "source": [
        "!pip install langchain\n",
        "!pip install openai"
      ]
    },
    {
      "cell_type": "code",
      "source": [
        "OPENAI_API_KEY = \"\"#@param{type: \"string\"}\n"
      ],
      "metadata": {
        "id": "NsAsGaJIGRO8"
      },
      "execution_count": 2,
      "outputs": []
    },
    {
      "cell_type": "code",
      "source": [
        "import os\n",
        "os.environ[\"OPENAI_API_KEY\"] = OPENAI_API_KEY"
      ],
      "metadata": {
        "id": "kQ3yZyauGWob"
      },
      "execution_count": 3,
      "outputs": []
    },
    {
      "cell_type": "code",
      "source": [
        "from langchain.llms import OpenAI\n",
        "\n",
        "llm = OpenAI(temperature=0.9)\n",
        "\n",
        "text = \"What would be a good company name a company that makes colorful socks?\"#@param{type: \"string\"}\n",
        "print(llm(text))"
      ],
      "metadata": {
        "id": "S9arkkagG4mE"
      },
      "execution_count": null,
      "outputs": []
    },
    {
      "cell_type": "code",
      "source": [
        "# 日本語の場合\n",
        "from langchain.llms import OpenAI\n",
        "\n",
        "llm = OpenAI(temperature=0.9)\n",
        "\n",
        "text = \"カラフルな靴下を作る会社にふさわしい名前を1つ挙げて下さい\"#@param{type: \"string\"}\n",
        "print(llm(text))"
      ],
      "metadata": {
        "id": "BtOzaEWHKELK"
      },
      "execution_count": null,
      "outputs": []
    },
    {
      "cell_type": "code",
      "source": [
        "#Agent\n",
        "from langchain.agents import AgentType, initialize_agent, load_tools\n",
        "from langchain.chains import LLMChain\n",
        "from langchain.llms import OpenAI\n",
        "from langchain.prompts import PromptTemplate\n",
        "\n",
        "llm = OpenAI(temperature=0)\n",
        "# serpapiの設定、環境変数の登録が必要\n",
        "tools = load_tools([\"serpapi\", \"llm-math\"], llm=llm)\n",
        "agent = initialize_agent(tools, llm, agent=AgentType.ZERO_SHOT_REACT_DESCRIPTION, verbose=True)\n",
        "question = \"\"#@param{type: \"string\"}\n",
        "agent.run(question)"
      ],
      "metadata": {
        "id": "DKvByIJTMJSi"
      },
      "execution_count": null,
      "outputs": []
    },
    {
      "cell_type": "code",
      "source": [
        "# Chat Models\n",
        "from langchain.chat_models import ChatOpenAI\n",
        "from langchain.schema import (\n",
        "    AIMessage,\n",
        "    HumanMessage,\n",
        "    SystemMessage\n",
        ")\n",
        "\n",
        "chat = ChatOpenAI(temperature=0)\n",
        "\n",
        "# 単一メッセージ\n",
        "message = \"Translate this sentence from English to Japanese. I love programming.\"#@param{type: \"string\"}\n",
        "\n",
        "# 複数メッセージ\n",
        "messages = [\n",
        "    SystemMessage(content=\"You are a helpful assistant that translates English to Japanese.\"),\n",
        "    HumanMessage(content=\"Translate this sentence from English to Japanese. I love programming.\")\n",
        "]\n",
        "# 複数メッセージの完了を生成\n",
        "batch_messages = [\n",
        "    [\n",
        "        SystemMessage(content=\"You are a helpful assistant that translates English to Japanese.\"),\n",
        "        HumanMessage(content=\"Translate this sentence from English to French. I love programming.\")\n",
        "    ],\n",
        "    [\n",
        "        SystemMessage(content=\"You are a helpful assistant that translates English to Japanese.\"),\n",
        "        HumanMessage(content=\"Translate this sentence from English to French. I love artificial intelligence.\")\n",
        "    ],\n",
        "]\n",
        "\n",
        "# chat([HumanMessage(content=message)])\n",
        "# chat(messages)\n",
        "result = chat.generate(batch_messages)\n",
        "\n",
        "result.llm_output\n",
        "# result.llm_output['token_usage']"
      ],
      "metadata": {
        "colab": {
          "base_uri": "https://localhost:8080/"
        },
        "id": "1Z9W0z3tMMGW",
        "outputId": "d9c22690-b587-4fbd-8ebc-66958d06fdee"
      },
      "execution_count": 30,
      "outputs": [
        {
          "output_type": "execute_result",
          "data": {
            "text/plain": [
              "{'token_usage': {'prompt_tokens': 73,\n",
              "  'completion_tokens': 16,\n",
              "  'total_tokens': 89},\n",
              " 'model_name': 'gpt-3.5-turbo'}"
            ]
          },
          "metadata": {},
          "execution_count": 30
        }
      ]
    },
    {
      "cell_type": "code",
      "source": [],
      "metadata": {
        "id": "SzXFMcTKOe3w"
      },
      "execution_count": null,
      "outputs": []
    }
  ]
}