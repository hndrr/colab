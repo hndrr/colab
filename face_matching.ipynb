{
  "nbformat": 4,
  "nbformat_minor": 0,
  "metadata": {
    "colab": {
      "provenance": [],
      "gpuType": "T4",
      "authorship_tag": "ABX9TyPfTVJYwjVVmidG5PCUrqiW",
      "include_colab_link": true
    },
    "kernelspec": {
      "name": "python3",
      "display_name": "Python 3"
    },
    "language_info": {
      "name": "python"
    },
    "accelerator": "GPU"
  },
  "cells": [
    {
      "cell_type": "markdown",
      "metadata": {
        "id": "view-in-github",
        "colab_type": "text"
      },
      "source": [
        "<a href=\"https://colab.research.google.com/github/hndrr/colab/blob/main/face_matching.ipynb\" target=\"_parent\"><img src=\"https://colab.research.google.com/assets/colab-badge.svg\" alt=\"Open In Colab\"/></a>"
      ]
    },
    {
      "cell_type": "code",
      "source": [
        "!pip install gradio face_recognition\n"
      ],
      "metadata": {
        "id": "oD1cflt5QJsF"
      },
      "execution_count": null,
      "outputs": []
    },
    {
      "cell_type": "code",
      "execution_count": null,
      "metadata": {
        "id": "UQ2WQvt2P-r6"
      },
      "outputs": [],
      "source": [
        "# 必要なライブラリのインポート\n",
        "import face_recognition\n",
        "import gradio as gr\n",
        "import numpy as np\n",
        "\n",
        "def check_face_match(img1, img2):\n",
        "    # PIL Imageをnumpy配列に変換\n",
        "    img1 = np.array(img1)\n",
        "    img2 = np.array(img2)\n",
        "\n",
        "    try:\n",
        "        # CNNベースの顔検出モデルを使用\n",
        "        face1_encoding = face_recognition.face_encodings(img1, model=\"cnn\")[0]\n",
        "        face2_encoding = face_recognition.face_encodings(img2, model=\"cnn\")[0]\n",
        "\n",
        "        # 顔の特徴量間の距離を計算\n",
        "        distance = face_recognition.face_distance([face1_encoding], face2_encoding)[0]\n",
        "        return f\"顔の一致度（距離）: {distance:.4f}\"\n",
        "\n",
        "    except IndexError:\n",
        "        # 顔が検出されない場合\n",
        "        return \"顔が検出されませんでした\"\n",
        "\n",
        "# Gradioインターフェースの設定\n",
        "iface = gr.Interface(\n",
        "    fn=check_face_match,\n",
        "    inputs=[gr.Image(label=\"画像1\"), gr.Image(label=\"画像2\")],\n",
        "    outputs=\"text\"\n",
        ")\n",
        "\n",
        "\n",
        "# アプリケーションを起動\n",
        "iface.launch(debug=True)"
      ]
    }
  ]
}