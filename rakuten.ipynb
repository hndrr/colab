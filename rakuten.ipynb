{
  "nbformat": 4,
  "nbformat_minor": 0,
  "metadata": {
    "colab": {
      "provenance": [],
      "authorship_tag": "ABX9TyOQR72y7ZTY6BgbL4fgRQ1B",
      "include_colab_link": true
    },
    "kernelspec": {
      "name": "python3",
      "display_name": "Python 3"
    },
    "language_info": {
      "name": "python"
    }
  },
  "cells": [
    {
      "cell_type": "markdown",
      "metadata": {
        "id": "view-in-github",
        "colab_type": "text"
      },
      "source": [
        "<a href=\"https://colab.research.google.com/github/hndrr/colab/blob/main/rakuten.ipynb\" target=\"_parent\"><img src=\"https://colab.research.google.com/assets/colab-badge.svg\" alt=\"Open In Colab\"/></a>"
      ]
    },
    {
      "cell_type": "markdown",
      "source": [
        "楽天APIテスト\n",
        "\n",
        "https://webservice.rakuten.co.jp/documentation/keyword-hotel-search"
      ],
      "metadata": {
        "id": "HH2rT8yVlvTP"
      }
    },
    {
      "cell_type": "code",
      "source": [
        "import requests"
      ],
      "metadata": {
        "id": "u2VNu4lnlpI4"
      },
      "execution_count": 3,
      "outputs": []
    },
    {
      "cell_type": "code",
      "source": [
        "URL ='https://app.rakuten.co.jp/services/api/Travel/KeywordHotelSearch/20170426'"
      ],
      "metadata": {
        "id": "mlHMw3dUlrMw"
      },
      "execution_count": 9,
      "outputs": []
    },
    {
      "cell_type": "code",
      "source": [
        "APP_ID = \"\"#@param{type: \"string\"}"
      ],
      "metadata": {
        "id": "9MY1E-P_kGD-"
      },
      "execution_count": 4,
      "outputs": []
    },
    {
      "cell_type": "code",
      "source": [
        "params = {\n",
        "    'applicationId': APP_ID,\n",
        "    'keyword' : '沖縄'\n",
        "}"
      ],
      "metadata": {
        "id": "p0P6PqpVmDnB"
      },
      "execution_count": 6,
      "outputs": []
    },
    {
      "cell_type": "code",
      "source": [
        "res = requests.get(URL, params)"
      ],
      "metadata": {
        "id": "IP4sKU5umYG4"
      },
      "execution_count": 10,
      "outputs": []
    },
    {
      "cell_type": "code",
      "source": [
        "res.status_code"
      ],
      "metadata": {
        "id": "kaOGNZB-m8t4"
      },
      "execution_count": null,
      "outputs": []
    },
    {
      "cell_type": "code",
      "source": [
        "hotels = res.json()['hotels']\n",
        "hotels"
      ],
      "metadata": {
        "id": "7iVYPEaKmnyp"
      },
      "execution_count": null,
      "outputs": []
    },
    {
      "cell_type": "code",
      "source": [
        "hotel = hotels[0]['hotel'][0]['hotelBasicInfo']\n",
        "hotel"
      ],
      "metadata": {
        "id": "TA8VD8l7nSla"
      },
      "execution_count": null,
      "outputs": []
    },
    {
      "cell_type": "code",
      "source": [
        "hotel['hotelName']"
      ],
      "metadata": {
        "id": "fsqYk_vln2Yf"
      },
      "execution_count": null,
      "outputs": []
    },
    {
      "cell_type": "code",
      "source": [
        "address = hotel['address1'] + hotel['address2']\n",
        "address"
      ],
      "metadata": {
        "id": "ljk8HFc2n8oQ"
      },
      "execution_count": null,
      "outputs": []
    }
  ]
}